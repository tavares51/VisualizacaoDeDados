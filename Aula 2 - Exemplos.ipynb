{
 "cells": [
  {
   "cell_type": "code",
   "execution_count": null,
   "id": "dbbec1b2",
   "metadata": {},
   "outputs": [],
   "source": [
    "import matplotlib.pyplot as plt\n",
    "import pandas as pd\n",
    "import numpy as np"
   ]
  },
  {
   "cell_type": "markdown",
   "id": "aaa9e73e",
   "metadata": {},
   "source": [
    "# Histograma\n",
    "\n",
    "Ferramenta de análise e representação de <b>dados quantitativos</b>, agrupados em classes de frequência"
   ]
  },
  {
   "cell_type": "markdown",
   "id": "084acb29",
   "metadata": {},
   "source": [
    "### 1º Passo"
   ]
  },
  {
   "cell_type": "code",
   "execution_count": null,
   "id": "c10b5139",
   "metadata": {},
   "outputs": [],
   "source": [
    "idades = [65,26,67,50,47,73,1,58,2,94,12,22,12,95,25,13,61,41,24,95,\n",
    "        3,71,53,24,23,44,83,30,19,32,71,66,45,6,99,4,76,27,50,18,58,                 \n",
    "        61,53,72,14,78,36,89,6,71,58,69,22,34,38,51,71,83,22,22,36,44,        \n",
    "        16,58,20,49,28,55,21,26,23,41,21,95,18,63,55,2,61,81,39,20,39,\n",
    "        17,66,60,73,26,54,16,76,83,9,12,15,35,54,11,7,61]\n",
    "\n",
    "print(len(idades))"
   ]
  },
  {
   "cell_type": "markdown",
   "id": "d964dfa2",
   "metadata": {},
   "source": [
    "### 2º Passo"
   ]
  },
  {
   "cell_type": "code",
   "execution_count": null,
   "id": "c420eeca",
   "metadata": {},
   "outputs": [],
   "source": [
    "menor_idade = min(idades)\n",
    "maior_idade = max(idades)\n",
    "AT = maior_idade - menor_idade\n",
    "\n",
    "print(\"Menor Idade:\",menor_idade, \"\\nMaior Idade:\", maior_idade)\n",
    "print(\"AT: \", AT)"
   ]
  },
  {
   "cell_type": "markdown",
   "id": "5486f811",
   "metadata": {},
   "source": [
    "### 3º Passo\n",
    "Dica:\n",
    "* Abaixo de 50 dados de amostra, de 5 a 7 classes;\n",
    "* Entre 50 e 100, de 6 a 10 classes;\n",
    "* Entre 100 e 250, de 7 a 12 classes;\n",
    "* Acima de 250 dados de amostra, de 10 a 20 classes."
   ]
  },
  {
   "cell_type": "code",
   "execution_count": null,
   "id": "00f68a89",
   "metadata": {},
   "outputs": [],
   "source": [
    "classes = 10"
   ]
  },
  {
   "cell_type": "markdown",
   "id": "b25b3ad4",
   "metadata": {},
   "source": [
    "### 4º Passo"
   ]
  },
  {
   "cell_type": "code",
   "execution_count": null,
   "id": "5a14f402",
   "metadata": {},
   "outputs": [],
   "source": [
    "intervalo = round(AT/classes)\n",
    "print(\"Intervalo:\", intervalo)"
   ]
  },
  {
   "cell_type": "code",
   "execution_count": null,
   "id": "5919f7f5",
   "metadata": {
    "scrolled": true
   },
   "outputs": [],
   "source": [
    "plt.hist(idades, intervalo)    \n",
    "plt.show()"
   ]
  },
  {
   "cell_type": "markdown",
   "id": "f4eef9f8",
   "metadata": {},
   "source": [
    "___________________________________________"
   ]
  },
  {
   "cell_type": "markdown",
   "id": "ede31336",
   "metadata": {},
   "source": [
    "# Boxplot\n",
    "\n",
    "Ferramenta de análise gráfica que permite visualizar a distribuição e valores discrepantes (outliers) dos dados. Usado regularmente na pesquisa científica para sumarizar e analisar <b>dados quantitativos</b>"
   ]
  },
  {
   "cell_type": "markdown",
   "id": "0927b13c",
   "metadata": {},
   "source": [
    "### 1º Passo"
   ]
  },
  {
   "cell_type": "code",
   "execution_count": null,
   "id": "e4cce16e",
   "metadata": {},
   "outputs": [],
   "source": [
    "idades=[65,26,67,50,47,73,1,58,2,94,12,22,12,95,25,13,61,41,24,95,\n",
    "        3,71,53,24,23,44,83,30,19,32,71,66,45,6,99,4,76,27,50,18,58,                 \n",
    "        61,53,72,14,78,36,89,6,71,58,69,22,34,38,51,71,83,22,22,36,44,        \n",
    "        16,58,20,49,28,55,21,26,23,41,21,95,18,63,55,2,61,81,39,20,39,\n",
    "        17,66,60,73,26,54,16,76,83,9,12,15,35,54,11,7,61,80,132]"
   ]
  },
  {
   "cell_type": "code",
   "execution_count": null,
   "id": "ea59bc6a",
   "metadata": {},
   "outputs": [],
   "source": [
    "df = pd.DataFrame(idades)"
   ]
  },
  {
   "cell_type": "markdown",
   "id": "3f931213",
   "metadata": {},
   "source": [
    "### 2º Passo"
   ]
  },
  {
   "cell_type": "code",
   "execution_count": null,
   "id": "a73e6544",
   "metadata": {},
   "outputs": [],
   "source": [
    "df.describe()"
   ]
  },
  {
   "cell_type": "code",
   "execution_count": null,
   "id": "ab09b8e5",
   "metadata": {
    "scrolled": false
   },
   "outputs": [],
   "source": [
    "plt.boxplot(df)\n",
    "plt.show()"
   ]
  },
  {
   "cell_type": "markdown",
   "id": "c32bb3fc",
   "metadata": {},
   "source": [
    "__________________________"
   ]
  },
  {
   "cell_type": "markdown",
   "id": "4d7c474c",
   "metadata": {},
   "source": [
    "# Gráfico de Violino\n",
    "Utilizado na visualização da distribuição de dados de <b>variáveis contínuas</b>."
   ]
  },
  {
   "cell_type": "code",
   "execution_count": null,
   "id": "fef264e8",
   "metadata": {},
   "outputs": [],
   "source": [
    "plt.violinplot(idades)\n",
    "plt.show()"
   ]
  },
  {
   "cell_type": "markdown",
   "id": "1a82dce5",
   "metadata": {},
   "source": [
    "### Seaborn Example\n",
    "\n",
    "https://seaborn.pydata.org/generated/seaborn.violinplot.html"
   ]
  },
  {
   "cell_type": "code",
   "execution_count": null,
   "id": "e1752e90",
   "metadata": {},
   "outputs": [],
   "source": [
    "import seaborn as sns\n",
    "sns.set_theme(style=\"whitegrid\")\n",
    "sns.violinplot(x=idades)"
   ]
  },
  {
   "cell_type": "code",
   "execution_count": null,
   "id": "083b0f11",
   "metadata": {},
   "outputs": [],
   "source": [
    "# Utilizando o dataset tips\n",
    "tips = sns.load_dataset(\"tips\")\n",
    "ax = sns.violinplot(x=tips[\"total_bill\"])"
   ]
  },
  {
   "cell_type": "code",
   "execution_count": null,
   "id": "13aeacdc",
   "metadata": {},
   "outputs": [],
   "source": [
    "# Visualizando por categorias\n",
    "sns.violinplot(x=\"day\", y=\"total_bill\", data=tips)"
   ]
  },
  {
   "cell_type": "code",
   "execution_count": null,
   "id": "74d4cfef",
   "metadata": {},
   "outputs": [],
   "source": [
    "# Comparando as categorias\n",
    "sns.violinplot(x=\"day\", y=\"total_bill\", hue=\"smoker\", data=tips, palette=\"muted\")"
   ]
  },
  {
   "cell_type": "code",
   "execution_count": null,
   "id": "d54bd61a",
   "metadata": {},
   "outputs": [],
   "source": [
    "sns.violinplot(x=\"day\", y=\"total_bill\", hue=\"smoker\", data=tips, palette=\"muted\", split=True)"
   ]
  },
  {
   "cell_type": "markdown",
   "id": "b1e32b9a",
   "metadata": {},
   "source": [
    "_________________________"
   ]
  },
  {
   "cell_type": "markdown",
   "id": "4a615131",
   "metadata": {},
   "source": [
    "# Gráfico de Bala"
   ]
  },
  {
   "cell_type": "markdown",
   "id": "696fbcfe",
   "metadata": {},
   "source": [
    "#### Plotly Example\n",
    "https://plotly.com/python/v3/bullet-charts/"
   ]
  },
  {
   "cell_type": "code",
   "execution_count": null,
   "id": "773a23bd",
   "metadata": {},
   "outputs": [],
   "source": [
    "#pip install plotly"
   ]
  },
  {
   "cell_type": "code",
   "execution_count": null,
   "id": "7183c36a",
   "metadata": {},
   "outputs": [],
   "source": [
    "import plotly.figure_factory as ff  \n",
    "  \n",
    "data = [\n",
    "  {\"label\": \"Revenue\", \n",
    "   \"range\": [150, 225, 300], \n",
    "   \"performance\": [220,270],\n",
    "   \"point\": [250]},\n",
    "    \n",
    "  {\"label\": \"Profit\", \n",
    "   \"range\": [20, 25, 30],\n",
    "   \"performance\": [21, 23], \n",
    "   \"point\": [26]},\n",
    "    \n",
    "  {\"label\": \"Order Size\", \n",
    "   \"range\": [350, 500, 600],\n",
    "   \"performance\": [100,320],\n",
    "   \"point\": [550]},\n",
    "    \n",
    "  {\"label\": \"New Customers\", \n",
    "   \"range\": [1400, 2000, 2500],\n",
    "   \"performance\": [1000, 1650],\n",
    "   \"point\": [2100]},\n",
    "    \n",
    "  {\"label\": \"Satisfaction\", \n",
    "   \"range\": [3.5, 4.25, 5],\n",
    "   \"performance\": [3.2, 4.7],\n",
    "   \"point\": [4.4]}\n",
    "]\n",
    "  \n",
    "fig = ff.create_bullet( data, \n",
    "                        titles='label',\n",
    "                        markers='point',\n",
    "                        measures='performance',\n",
    "                        ranges='range', \n",
    "                        orientation='v',\n",
    "                        title='Bullet Chart' )\n",
    "  \n",
    "fig.show()"
   ]
  },
  {
   "cell_type": "markdown",
   "id": "e53ad224",
   "metadata": {},
   "source": [
    "______________________"
   ]
  },
  {
   "cell_type": "markdown",
   "id": "c9c15182",
   "metadata": {},
   "source": [
    "# Buble Chart"
   ]
  },
  {
   "cell_type": "code",
   "execution_count": null,
   "id": "98e46c05",
   "metadata": {},
   "outputs": [],
   "source": [
    "# create data\n",
    "x = np.random.rand(20)\n",
    "y = np.random.rand(20)\n",
    "z = np.random.rand(20)\n",
    "\n",
    "colors = np.random.rand(20) \n",
    "\n",
    "# scatter function\n",
    "plt.scatter(x, y, s=z*1000,c=colors)\n",
    "plt.show()"
   ]
  },
  {
   "cell_type": "markdown",
   "id": "0e5f5593",
   "metadata": {},
   "source": [
    "### Buble Chart Plotly Example\n",
    "https://plotly.com/python/bubble-charts/"
   ]
  },
  {
   "cell_type": "code",
   "execution_count": null,
   "id": "67b34b21",
   "metadata": {},
   "outputs": [],
   "source": [
    "import plotly.express as px\n",
    "\n",
    "#dataset gap minder\n",
    "df = px.data.gapminder()\n",
    "\n",
    "fig = px.scatter(df.query(\"year==2007\"), \n",
    "                 x=\"gdpPercap\", \n",
    "                 y=\"lifeExp\",\n",
    "                 size=\"pop\", \n",
    "                 color=\"continent\",\n",
    "                 hover_name=\"country\", \n",
    "                 log_x=True, \n",
    "                 size_max=60)\n",
    "fig.show()"
   ]
  },
  {
   "cell_type": "markdown",
   "id": "7538b417",
   "metadata": {},
   "source": [
    "_______________________________"
   ]
  },
  {
   "cell_type": "markdown",
   "id": "5cc8d044",
   "metadata": {},
   "source": [
    "# Diagrama de Venn"
   ]
  },
  {
   "cell_type": "code",
   "execution_count": null,
   "id": "6dd4c7e3",
   "metadata": {},
   "outputs": [],
   "source": [
    "#pip install matplotlib_venn "
   ]
  },
  {
   "cell_type": "code",
   "execution_count": null,
   "id": "9d3dd632",
   "metadata": {
    "scrolled": true
   },
   "outputs": [],
   "source": [
    "from matplotlib_venn import venn2\n",
    "\n",
    "venn2(subsets = (10, 10, 2), set_labels = ('Grupo A', 'Grupo B') )\n",
    "plt.show()"
   ]
  },
  {
   "cell_type": "code",
   "execution_count": null,
   "id": "43fd405d",
   "metadata": {
    "scrolled": false
   },
   "outputs": [],
   "source": [
    "from matplotlib_venn import venn3\n",
    "\n",
    "plt.figure(figsize=(10,10))\n",
    "venn3(subsets = (10, 10, 2, 10, 2, 2, 1), set_labels = ('Mat/Estatística', 'Ciências da Computação', 'Conhecimento do Negócio'))\n",
    "plt.show()"
   ]
  },
  {
   "cell_type": "markdown",
   "id": "6c683a2e",
   "metadata": {},
   "source": [
    "________________"
   ]
  },
  {
   "cell_type": "markdown",
   "id": "793de1ab",
   "metadata": {},
   "source": [
    "# Velocímetro (Gauge Chart)"
   ]
  },
  {
   "cell_type": "code",
   "execution_count": null,
   "id": "79f6fe70",
   "metadata": {},
   "outputs": [],
   "source": [
    "import plotly.graph_objects as go\n",
    "\n",
    "fig = go.Figure(go.Indicator(\n",
    "    mode = \"gauge+number\",\n",
    "    value = 100,\n",
    "    domain = {'x': [0, 1], 'y': [0, 1]},\n",
    "    title = {'text': \"Velocímetro\"}))\n",
    "\n",
    "fig.show()"
   ]
  },
  {
   "cell_type": "code",
   "execution_count": null,
   "id": "2946cba9",
   "metadata": {},
   "outputs": [],
   "source": [
    "fig = go.Figure(go.Indicator(\n",
    "    value = 75,\n",
    "    #mode = \"gauge+number+delta\",\n",
    "    mode = \"gauge+number\",\n",
    "    title = {'text': \"Velocímetro\"},\n",
    "    #delta = {'reference': 100},\n",
    "    gauge = {'axis': {'range': [None, 110]},\n",
    "             'bar': {'color': \"gray\"},\n",
    "             'steps' : [\n",
    "                 {'range': [0, 30], 'color': \"lightsalmon\"},\n",
    "                 {'range': [30, 70], 'color': \"yellow\"},\n",
    "                 {'range': [70, 110], 'color': \"lightgreen\"}],\n",
    "             'threshold' : {'line': {'color': \"red\", 'width': 4}, 'thickness': 0.75, 'value': 100}}))\n",
    "\n",
    "fig.show()"
   ]
  },
  {
   "cell_type": "markdown",
   "id": "60ff0ad5",
   "metadata": {},
   "source": [
    "__________________"
   ]
  },
  {
   "cell_type": "markdown",
   "id": "74bfcb48",
   "metadata": {},
   "source": [
    "# Gráfico de Funil"
   ]
  },
  {
   "cell_type": "code",
   "execution_count": null,
   "id": "4788d459",
   "metadata": {},
   "outputs": [],
   "source": [
    "import plotly.express as px\n",
    "data = dict(\n",
    "    number=[39, 27, 20, 11, 2],\n",
    "    stage=[\"Website visit\", \"Downloads\", \"Potential customers\", \"Requested price\", \"invoice sent\"])\n",
    "fig = px.funnel(data, x='number', y='stage')\n",
    "fig.show()"
   ]
  }
 ],
 "metadata": {
  "kernelspec": {
   "display_name": "Python 3 (ipykernel)",
   "language": "python",
   "name": "python3"
  },
  "language_info": {
   "codemirror_mode": {
    "name": "ipython",
    "version": 3
   },
   "file_extension": ".py",
   "mimetype": "text/x-python",
   "name": "python",
   "nbconvert_exporter": "python",
   "pygments_lexer": "ipython3",
   "version": "3.9.7"
  }
 },
 "nbformat": 4,
 "nbformat_minor": 5
}
